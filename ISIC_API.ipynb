{
 "cells": [
  {
   "cell_type": "markdown",
   "id": "referenced-laser",
   "metadata": {},
   "source": [
    "# ISIC API Encapsulation"
   ]
  },
  {
   "cell_type": "code",
   "execution_count": 1,
   "id": "material-theology",
   "metadata": {},
   "outputs": [],
   "source": [
    "import requests\n",
    "\n",
    "\n",
    "class ISICApi(object):\n",
    "    def __init__(self, hostname='https://isic-archive.com',\n",
    "                 username=None, password=None):\n",
    "        self.baseUrl = f'{hostname}/api/v1'\n",
    "        self.authToken = None\n",
    "\n",
    "        if username is not None:\n",
    "            if password is None:\n",
    "                password = input(f'Password for user \"{username}\":')\n",
    "            self.authToken = self._login(username, password)\n",
    "\n",
    "    def _makeUrl(self, endpoint):\n",
    "        return f'{self.baseUrl}/{endpoint}'\n",
    "\n",
    "    def _login(self, username, password):\n",
    "        authResponse = requests.get(\n",
    "            self._makeUrl('user/authentication'),\n",
    "            auth=(username, password)\n",
    "        )\n",
    "        if not authResponse.ok:\n",
    "            raise Exception(f'Login error: {authResponse.json()[\"message\"]}')\n",
    "\n",
    "        authToken = authResponse.json()['authToken']['token']\n",
    "        return authToken\n",
    "\n",
    "    def get(self, endpoint):\n",
    "        url = self._makeUrl(endpoint)\n",
    "        headers = {'Girder-Token': self.authToken} if self.authToken else None\n",
    "        return requests.get(url, headers=headers)\n",
    "\n",
    "    def getJson(self, endpoint):\n",
    "        return self.get(endpoint).json()\n",
    "\n",
    "    def getJsonList(self, endpoint):\n",
    "        endpoint += '&' if '?' in endpoint else '?'\n",
    "        LIMIT = 50\n",
    "        offset = 0\n",
    "        while True:\n",
    "            resp = self.get(\n",
    "                f'{endpoint}limit={LIMIT:d}&offset={offset:d}'\n",
    "            ).json()\n",
    "            if not resp:\n",
    "                break\n",
    "            for elem in resp:\n",
    "                yield elem\n",
    "            offset += LIMIT"
   ]
  },
  {
   "cell_type": "markdown",
   "id": "authorized-buffalo",
   "metadata": {},
   "source": [
    "## Connect to API"
   ]
  },
  {
   "cell_type": "code",
   "execution_count": 4,
   "id": "musical-enterprise",
   "metadata": {},
   "outputs": [],
   "source": [
    "api = ISICApi(username=\"spaniernathan\", password=\"4YwB3z&f78BjdBp4W2ghBt^k8YT&HZDS\")"
   ]
  },
  {
   "cell_type": "markdown",
   "id": "native-access",
   "metadata": {},
   "source": [
    "## Fetch images"
   ]
  },
  {
   "cell_type": "code",
   "execution_count": 6,
   "id": "convertible-mouse",
   "metadata": {},
   "outputs": [
    {
     "name": "stdout",
     "output_type": "stream",
     "text": [
      "Downloading 20 images\n",
      "5436e3abbae478396759f0cf\n",
      "5436e3acbae478396759f0d1\n",
      "5436e3acbae478396759f0d3\n",
      "5436e3acbae478396759f0d5\n",
      "5436e3acbae478396759f0d7\n",
      "5436e3acbae478396759f0d9\n",
      "5436e3acbae478396759f0db\n",
      "5436e3acbae478396759f0dd\n",
      "5436e3acbae478396759f0df\n",
      "5436e3acbae478396759f0e1\n",
      "5436e3acbae478396759f0e3\n",
      "5436e3acbae478396759f0e5\n",
      "5436e3acbae478396759f0e7\n",
      "5436e3adbae478396759f0e9\n",
      "5436e3adbae478396759f0eb\n",
      "5436e3adbae478396759f0ed\n",
      "5436e3adbae478396759f0ef\n",
      "5436e3adbae478396759f0f1\n",
      "5436e3adbae478396759f0f3\n",
      "5436e3adbae478396759f0f5\n"
     ]
    }
   ],
   "source": [
    "import urllib\n",
    "import os\n",
    "\n",
    "savePath = 'ISICArchive/'\n",
    "\n",
    "if not os.path.exists(savePath):\n",
    "    os.makedirs(savePath)\n",
    "\n",
    "imageList = api.getJson('image?limit=20&offset=0&sort=name')\n",
    "\n",
    "print('Downloading %s images' % len(imageList))\n",
    "imageDetails = []\n",
    "for image in imageList:\n",
    "    print(image['_id'])\n",
    "    imageFileResp = api.get('image/%s/download' % image['_id'])\n",
    "    imageFileResp.raise_for_status()\n",
    "    imageFileOutputPath = os.path.join(savePath, '%s.jpg' % image['name'])\n",
    "    with open(imageFileOutputPath, 'wb') as imageFileOutputStream:\n",
    "        for chunk in imageFileResp:\n",
    "            imageFileOutputStream.write(chunk)"
   ]
  },
  {
   "cell_type": "markdown",
   "id": "surprising-lounge",
   "metadata": {},
   "source": [
    "## Fetch image details & metadata"
   ]
  },
  {
   "cell_type": "code",
   "id": "marine-flexibility",
   "metadata": {},
   "outputs": [
    {
     "name": "stdout",
     "output_type": "stream",
     "text": [
      "Fetching metadata for 20 images\n",
      "  ISIC_0000000\n",
      "   {'age_approx': 55, 'anatom_site_general': 'anterior torso', 'benign_malignant': 'benign', 'diagnosis': 'nevus', 'diagnosis_confirm_type': None, 'melanocytic': True, 'sex': 'female'}\n",
      "\n",
      "   {'_id': '5436e3abbae478396759f0cf', '_modelType': 'image', 'created': '2014-10-09T19:36:11.989000+00:00', 'creator': {'_id': '5450e996bae47865794e4d0d', 'name': 'User 6VSN'}, 'dataset': {'_accessLevel': -1, '_id': '5a2ecc5e1165975c945942a2', 'description': 'Moles and melanomas.\\nBiopsy-confirmed melanocytic lesions. Both malignant and benign lesions are included.', 'license': 'CC-0', 'name': 'UDA-1', 'updated': '2014-11-10T02:39:56.492000+00:00'}, 'meta': {'acquisition': {'image_type': 'dermoscopic', 'pixelsX': 1022, 'pixelsY': 767}, 'clinical': {'age_approx': 55, 'anatom_site_general': 'anterior torso', 'benign_malignant': 'benign', 'diagnosis': 'nevus', 'diagnosis_confirm_type': None, 'melanocytic': True, 'sex': 'female'}}, 'name': 'ISIC_0000000', 'notes': {'reviewed': {'accepted': True, 'time': '2014-11-10T02:39:56.492000+00:00', 'userId': '5436c6e7bae4780a676c8f93'}, 'tags': ['Challenge 2018: Task 1-2: Training', 'Challenge 2019: Training', 'Challenge 2016: Training', 'Challenge 2017: Training']}, 'updated': '2015-02-23T02:48:17.495000+00:00'}\n",
      "\n",
      "  ISIC_0000001\n",
      "   {'age_approx': 30, 'anatom_site_general': 'anterior torso', 'benign_malignant': 'benign', 'diagnosis': 'nevus', 'diagnosis_confirm_type': None, 'melanocytic': True, 'sex': 'female'}\n",
      "\n",
      "   {'_id': '5436e3acbae478396759f0d1', '_modelType': 'image', 'created': '2014-10-09T19:36:12.070000+00:00', 'creator': {'_id': '5450e996bae47865794e4d0d', 'name': 'User 6VSN'}, 'dataset': {'_accessLevel': -1, '_id': '5a2ecc5e1165975c945942a2', 'description': 'Moles and melanomas.\\nBiopsy-confirmed melanocytic lesions. Both malignant and benign lesions are included.', 'license': 'CC-0', 'name': 'UDA-1', 'updated': '2014-11-10T02:39:56.492000+00:00'}, 'meta': {'acquisition': {'image_type': 'dermoscopic', 'pixelsX': 1022, 'pixelsY': 767}, 'clinical': {'age_approx': 30, 'anatom_site_general': 'anterior torso', 'benign_malignant': 'benign', 'diagnosis': 'nevus', 'diagnosis_confirm_type': None, 'melanocytic': True, 'sex': 'female'}}, 'name': 'ISIC_0000001', 'notes': {'reviewed': {'accepted': True, 'time': '2014-11-10T02:39:56.492000+00:00', 'userId': '5436c6e7bae4780a676c8f93'}, 'tags': ['Challenge 2018: Task 1-2: Training', 'Challenge 2019: Training', 'Challenge 2016: Training', 'Challenge 2017: Training']}, 'updated': '2015-02-23T02:48:27.455000+00:00'}\n",
      "\n",
      "  ISIC_0000002\n",
      "   {'age_approx': 60, 'anatom_site_general': 'upper extremity', 'benign_malignant': 'malignant', 'diagnosis': 'melanoma', 'diagnosis_confirm_type': 'histopathology', 'melanocytic': True, 'sex': 'female'}\n",
      "\n",
      "   {'_id': '5436e3acbae478396759f0d3', '_modelType': 'image', 'created': '2014-10-09T19:36:12.152000+00:00', 'creator': {'_id': '5450e996bae47865794e4d0d', 'name': 'User 6VSN'}, 'dataset': {'_accessLevel': -1, '_id': '5a2ecc5e1165975c945942a2', 'description': 'Moles and melanomas.\\nBiopsy-confirmed melanocytic lesions. Both malignant and benign lesions are included.', 'license': 'CC-0', 'name': 'UDA-1', 'updated': '2014-11-10T02:39:56.492000+00:00'}, 'meta': {'acquisition': {'image_type': 'dermoscopic', 'pixelsX': 1022, 'pixelsY': 767}, 'clinical': {'age_approx': 60, 'anatom_site_general': 'upper extremity', 'benign_malignant': 'malignant', 'diagnosis': 'melanoma', 'diagnosis_confirm_type': 'histopathology', 'melanocytic': True, 'sex': 'female'}}, 'name': 'ISIC_0000002', 'notes': {'reviewed': {'accepted': True, 'time': '2014-11-10T02:39:56.492000+00:00', 'userId': '5436c6e7bae4780a676c8f93'}, 'tags': ['Challenge 2019: Training', 'Challenge 2016: Training', 'Challenge 2017: Training']}, 'updated': '2015-02-23T02:48:37.249000+00:00'}\n",
      "\n",
      "  ISIC_0000003\n",
      "   {'age_approx': 30, 'anatom_site_general': 'upper extremity', 'benign_malignant': 'benign', 'diagnosis': 'nevus', 'diagnosis_confirm_type': None, 'melanocytic': True, 'sex': 'male'}\n",
      "\n",
      "   {'_id': '5436e3acbae478396759f0d5', '_modelType': 'image', 'created': '2014-10-09T19:36:12.233000+00:00', 'creator': {'_id': '5450e996bae47865794e4d0d', 'name': 'User 6VSN'}, 'dataset': {'_accessLevel': -1, '_id': '5a2ecc5e1165975c945942a2', 'description': 'Moles and melanomas.\\nBiopsy-confirmed melanocytic lesions. Both malignant and benign lesions are included.', 'license': 'CC-0', 'name': 'UDA-1', 'updated': '2014-11-10T02:39:56.492000+00:00'}, 'meta': {'acquisition': {'image_type': 'dermoscopic', 'pixelsX': 1022, 'pixelsY': 767}, 'clinical': {'age_approx': 30, 'anatom_site_general': 'upper extremity', 'benign_malignant': 'benign', 'diagnosis': 'nevus', 'diagnosis_confirm_type': None, 'melanocytic': True, 'sex': 'male'}}, 'name': 'ISIC_0000003', 'notes': {'reviewed': {'accepted': True, 'time': '2014-11-10T02:39:56.492000+00:00', 'userId': '5436c6e7bae4780a676c8f93'}, 'tags': ['Challenge 2018: Task 1-2: Training', 'Challenge 2019: Training', 'Challenge 2016: Test', 'Challenge 2017: Training']}, 'updated': '2015-02-23T02:48:46.021000+00:00'}\n",
      "\n",
      "  ISIC_0000004\n",
      "   {'age_approx': 80, 'anatom_site_general': 'posterior torso', 'benign_malignant': 'malignant', 'diagnosis': 'melanoma', 'diagnosis_confirm_type': 'histopathology', 'melanocytic': True, 'sex': 'male'}\n",
      "\n",
      "   {'_id': '5436e3acbae478396759f0d7', '_modelType': 'image', 'created': '2014-10-09T19:36:12.315000+00:00', 'creator': {'_id': '5450e996bae47865794e4d0d', 'name': 'User 6VSN'}, 'dataset': {'_accessLevel': -1, '_id': '5a2ecc5e1165975c945942a2', 'description': 'Moles and melanomas.\\nBiopsy-confirmed melanocytic lesions. Both malignant and benign lesions are included.', 'license': 'CC-0', 'name': 'UDA-1', 'updated': '2014-11-10T02:39:56.492000+00:00'}, 'meta': {'acquisition': {'image_type': 'dermoscopic', 'pixelsX': 1022, 'pixelsY': 767}, 'clinical': {'age_approx': 80, 'anatom_site_general': 'posterior torso', 'benign_malignant': 'malignant', 'diagnosis': 'melanoma', 'diagnosis_confirm_type': 'histopathology', 'melanocytic': True, 'sex': 'male'}}, 'name': 'ISIC_0000004', 'notes': {'reviewed': {'accepted': True, 'time': '2014-11-10T02:39:56.492000+00:00', 'userId': '5436c6e7bae4780a676c8f93'}, 'tags': ['Challenge 2018: Task 1-2: Training', 'Challenge 2019: Training', 'Challenge 2016: Training', 'Challenge 2017: Training']}, 'updated': '2015-02-23T02:48:57.303000+00:00'}\n",
      "\n",
      "  ISIC_0000005\n",
      "   {'age_approx': 40, 'anatom_site_general': 'anterior torso', 'benign_malignant': 'benign', 'diagnosis': 'nevus', 'diagnosis_confirm_type': None, 'melanocytic': True, 'sex': 'female'}\n",
      "\n",
      "   {'_id': '5436e3acbae478396759f0d9', '_modelType': 'image', 'created': '2014-10-09T19:36:12.399000+00:00', 'creator': {'_id': '5450e996bae47865794e4d0d', 'name': 'User 6VSN'}, 'dataset': {'_accessLevel': -1, '_id': '5a2ecc5e1165975c945942a2', 'description': 'Moles and melanomas.\\nBiopsy-confirmed melanocytic lesions. Both malignant and benign lesions are included.', 'license': 'CC-0', 'name': 'UDA-1', 'updated': '2014-11-10T02:39:56.492000+00:00'}, 'meta': {'acquisition': {'image_type': 'dermoscopic', 'pixelsX': 1022, 'pixelsY': 767}, 'clinical': {'age_approx': 40, 'anatom_site_general': 'anterior torso', 'benign_malignant': 'benign', 'diagnosis': 'nevus', 'diagnosis_confirm_type': None, 'melanocytic': True, 'sex': 'female'}}, 'name': 'ISIC_0000005', 'notes': {'reviewed': {'accepted': True, 'time': '2014-11-10T02:39:56.492000+00:00', 'userId': '5436c6e7bae4780a676c8f93'}, 'tags': []}, 'updated': '2016-05-18T15:52:15.449000+00:00'}\n",
      "\n",
      "  ISIC_0000006\n",
      "   {'age_approx': 25, 'anatom_site_general': 'posterior torso', 'benign_malignant': 'benign', 'diagnosis': 'nevus', 'diagnosis_confirm_type': None, 'melanocytic': True, 'sex': 'female'}\n",
      "\n",
      "   {'_id': '5436e3acbae478396759f0db', '_modelType': 'image', 'created': '2014-10-09T19:36:12.482000+00:00', 'creator': {'_id': '5450e996bae47865794e4d0d', 'name': 'User 6VSN'}, 'dataset': {'_accessLevel': -1, '_id': '5a2ecc5e1165975c945942a2', 'description': 'Moles and melanomas.\\nBiopsy-confirmed melanocytic lesions. Both malignant and benign lesions are included.', 'license': 'CC-0', 'name': 'UDA-1', 'updated': '2014-11-10T02:39:56.492000+00:00'}, 'meta': {'acquisition': {'image_type': 'dermoscopic', 'pixelsX': 1022, 'pixelsY': 767}, 'clinical': {'age_approx': 25, 'anatom_site_general': 'posterior torso', 'benign_malignant': 'benign', 'diagnosis': 'nevus', 'diagnosis_confirm_type': None, 'melanocytic': True, 'sex': 'female'}}, 'name': 'ISIC_0000006', 'notes': {'reviewed': {'accepted': True, 'time': '2014-11-10T02:39:56.492000+00:00', 'userId': '5436c6e7bae4780a676c8f93'}, 'tags': ['Challenge 2018: Task 1-2: Training', 'Challenge 2019: Training', 'Challenge 2016: Training', 'Challenge 2017: Training']}, 'updated': '2015-02-23T02:49:17.600000+00:00'}\n",
      "\n",
      "  ISIC_0000007\n",
      "   {'age_approx': 25, 'anatom_site_general': 'posterior torso', 'benign_malignant': 'benign', 'diagnosis': 'nevus', 'diagnosis_confirm_type': None, 'melanocytic': True, 'sex': 'female'}\n",
      "\n",
      "   {'_id': '5436e3acbae478396759f0dd', '_modelType': 'image', 'created': '2014-10-09T19:36:12.563000+00:00', 'creator': {'_id': '5450e996bae47865794e4d0d', 'name': 'User 6VSN'}, 'dataset': {'_accessLevel': -1, '_id': '5a2ecc5e1165975c945942a2', 'description': 'Moles and melanomas.\\nBiopsy-confirmed melanocytic lesions. Both malignant and benign lesions are included.', 'license': 'CC-0', 'name': 'UDA-1', 'updated': '2014-11-10T02:39:56.492000+00:00'}, 'meta': {'acquisition': {'image_type': 'dermoscopic', 'pixelsX': 1022, 'pixelsY': 767}, 'clinical': {'age_approx': 25, 'anatom_site_general': 'posterior torso', 'benign_malignant': 'benign', 'diagnosis': 'nevus', 'diagnosis_confirm_type': None, 'melanocytic': True, 'sex': 'female'}}, 'name': 'ISIC_0000007', 'notes': {'reviewed': {'accepted': True, 'time': '2014-11-10T02:39:56.492000+00:00', 'userId': '5436c6e7bae4780a676c8f93'}, 'tags': ['Challenge 2018: Task 1-2: Training', 'Challenge 2019: Training', 'Challenge 2016: Training', 'Challenge 2017: Training']}, 'updated': '2015-02-23T02:49:26.957000+00:00'}\n",
      "\n",
      "  ISIC_0000008\n",
      "   {'age_approx': 30, 'anatom_site_general': 'anterior torso', 'benign_malignant': 'benign', 'diagnosis': 'nevus', 'diagnosis_confirm_type': None, 'melanocytic': True, 'sex': 'female'}\n",
      "\n",
      "   {'_id': '5436e3acbae478396759f0df', '_modelType': 'image', 'created': '2014-10-09T19:36:12.650000+00:00', 'creator': {'_id': '5450e996bae47865794e4d0d', 'name': 'User 6VSN'}, 'dataset': {'_accessLevel': -1, '_id': '5a2ecc5e1165975c945942a2', 'description': 'Moles and melanomas.\\nBiopsy-confirmed melanocytic lesions. Both malignant and benign lesions are included.', 'license': 'CC-0', 'name': 'UDA-1', 'updated': '2014-11-10T02:39:56.492000+00:00'}, 'meta': {'acquisition': {'image_type': 'dermoscopic', 'pixelsX': 1022, 'pixelsY': 767}, 'clinical': {'age_approx': 30, 'anatom_site_general': 'anterior torso', 'benign_malignant': 'benign', 'diagnosis': 'nevus', 'diagnosis_confirm_type': None, 'melanocytic': True, 'sex': 'female'}}, 'name': 'ISIC_0000008', 'notes': {'reviewed': {'accepted': True, 'time': '2014-11-10T02:39:56.492000+00:00', 'userId': '5436c6e7bae4780a676c8f93'}, 'tags': ['Challenge 2018: Task 1-2: Training', 'Challenge 2019: Training', 'Challenge 2016: Training', 'Challenge 2017: Training']}, 'updated': '2015-02-23T02:49:36.872000+00:00'}\n",
      "\n",
      "  ISIC_0000009\n",
      "   {'age_approx': 30, 'anatom_site_general': 'anterior torso', 'benign_malignant': 'benign', 'diagnosis': 'nevus', 'diagnosis_confirm_type': None, 'melanocytic': True, 'sex': 'female'}\n",
      "\n",
      "   {'_id': '5436e3acbae478396759f0e1', '_modelType': 'image', 'created': '2014-10-09T19:36:12.731000+00:00', 'creator': {'_id': '5450e996bae47865794e4d0d', 'name': 'User 6VSN'}, 'dataset': {'_accessLevel': -1, '_id': '5a2ecc5e1165975c945942a2', 'description': 'Moles and melanomas.\\nBiopsy-confirmed melanocytic lesions. Both malignant and benign lesions are included.', 'license': 'CC-0', 'name': 'UDA-1', 'updated': '2014-11-10T02:39:56.492000+00:00'}, 'meta': {'acquisition': {'image_type': 'dermoscopic', 'pixelsX': 1022, 'pixelsY': 767}, 'clinical': {'age_approx': 30, 'anatom_site_general': 'anterior torso', 'benign_malignant': 'benign', 'diagnosis': 'nevus', 'diagnosis_confirm_type': None, 'melanocytic': True, 'sex': 'female'}}, 'name': 'ISIC_0000009', 'notes': {'reviewed': {'accepted': True, 'time': '2014-11-10T02:39:56.492000+00:00', 'userId': '5436c6e7bae4780a676c8f93'}, 'tags': ['Challenge 2018: Task 1-2: Training', 'Challenge 2019: Training', 'Challenge 2016: Training', 'Challenge 2017: Training']}, 'updated': '2015-02-23T02:49:47.182000+00:00'}\n",
      "\n",
      "  ISIC_0000010\n",
      "   {'age_approx': 35, 'anatom_site_general': 'posterior torso', 'benign_malignant': 'benign', 'diagnosis': 'nevus', 'diagnosis_confirm_type': None, 'melanocytic': True, 'sex': 'female'}\n",
      "\n",
      "   {'_id': '5436e3acbae478396759f0e3', '_modelType': 'image', 'created': '2014-10-09T19:36:12.815000+00:00', 'creator': {'_id': '5450e996bae47865794e4d0d', 'name': 'User 6VSN'}, 'dataset': {'_accessLevel': -1, '_id': '5a2ecc5e1165975c945942a2', 'description': 'Moles and melanomas.\\nBiopsy-confirmed melanocytic lesions. Both malignant and benign lesions are included.', 'license': 'CC-0', 'name': 'UDA-1', 'updated': '2014-11-10T02:39:56.492000+00:00'}, 'meta': {'acquisition': {'image_type': 'dermoscopic', 'pixelsX': 1022, 'pixelsY': 767}, 'clinical': {'age_approx': 35, 'anatom_site_general': 'posterior torso', 'benign_malignant': 'benign', 'diagnosis': 'nevus', 'diagnosis_confirm_type': None, 'melanocytic': True, 'sex': 'female'}}, 'name': 'ISIC_0000010', 'notes': {'reviewed': {'accepted': True, 'time': '2014-11-10T02:39:56.492000+00:00', 'userId': '5436c6e7bae4780a676c8f93'}, 'tags': ['Challenge 2019: Training', 'Challenge 2016: Training', 'Challenge 2017: Training']}, 'updated': '2015-02-23T02:49:56.107000+00:00'}\n",
      "\n",
      "  ISIC_0000011\n",
      "   {'age_approx': 35, 'anatom_site_general': 'lower extremity', 'benign_malignant': 'benign', 'diagnosis': 'nevus', 'diagnosis_confirm_type': None, 'melanocytic': True, 'sex': 'female'}\n",
      "\n",
      "   {'_id': '5436e3acbae478396759f0e5', '_modelType': 'image', 'created': '2014-10-09T19:36:12.897000+00:00', 'creator': {'_id': '5450e996bae47865794e4d0d', 'name': 'User 6VSN'}, 'dataset': {'_accessLevel': -1, '_id': '5a2ecc5e1165975c945942a2', 'description': 'Moles and melanomas.\\nBiopsy-confirmed melanocytic lesions. Both malignant and benign lesions are included.', 'license': 'CC-0', 'name': 'UDA-1', 'updated': '2014-11-10T02:39:56.492000+00:00'}, 'meta': {'acquisition': {'image_type': 'dermoscopic', 'pixelsX': 1022, 'pixelsY': 767}, 'clinical': {'age_approx': 35, 'anatom_site_general': 'lower extremity', 'benign_malignant': 'benign', 'diagnosis': 'nevus', 'diagnosis_confirm_type': None, 'melanocytic': True, 'sex': 'female'}}, 'name': 'ISIC_0000011', 'notes': {'reviewed': {'accepted': True, 'time': '2014-11-10T02:39:56.492000+00:00', 'userId': '5436c6e7bae4780a676c8f93'}, 'tags': ['Challenge 2018: Task 1-2: Training', 'Challenge 2019: Training', 'Challenge 2016: Training', 'Challenge 2017: Training']}, 'updated': '2015-02-23T02:50:05.924000+00:00'}\n",
      "\n",
      "  ISIC_0000012\n",
      "   {'age_approx': 30, 'anatom_site_general': 'posterior torso', 'benign_malignant': 'benign', 'diagnosis': 'nevus', 'diagnosis_confirm_type': None, 'melanocytic': True, 'sex': 'male'}\n",
      "\n",
      "   {'_id': '5436e3acbae478396759f0e7', '_modelType': 'image', 'created': '2014-10-09T19:36:12.981000+00:00', 'creator': {'_id': '5450e996bae47865794e4d0d', 'name': 'User 6VSN'}, 'dataset': {'_accessLevel': -1, '_id': '5a2ecc5e1165975c945942a2', 'description': 'Moles and melanomas.\\nBiopsy-confirmed melanocytic lesions. Both malignant and benign lesions are included.', 'license': 'CC-0', 'name': 'UDA-1', 'updated': '2014-11-10T02:39:56.492000+00:00'}, 'meta': {'acquisition': {'image_type': 'dermoscopic', 'pixelsX': 1022, 'pixelsY': 767}, 'clinical': {'age_approx': 30, 'anatom_site_general': 'posterior torso', 'benign_malignant': 'benign', 'diagnosis': 'nevus', 'diagnosis_confirm_type': None, 'melanocytic': True, 'sex': 'male'}}, 'name': 'ISIC_0000012', 'notes': {'reviewed': {'accepted': True, 'time': '2014-11-10T02:39:56.492000+00:00', 'userId': '5436c6e7bae4780a676c8f93'}, 'tags': ['Challenge 2018: Task 1-2: Training', 'Challenge 2019: Training', 'Challenge 2016: Test', 'Challenge 2017: Training']}, 'updated': '2015-02-23T02:50:16.387000+00:00'}\n",
      "\n",
      "  ISIC_0000013\n",
      "   {'age_approx': 30, 'anatom_site_general': 'posterior torso', 'benign_malignant': 'malignant', 'diagnosis': 'melanoma', 'diagnosis_confirm_type': 'histopathology', 'melanocytic': True, 'sex': 'female'}\n",
      "\n",
      "   {'_id': '5436e3adbae478396759f0e9', '_modelType': 'image', 'created': '2014-10-09T19:36:13.062000+00:00', 'creator': {'_id': '5450e996bae47865794e4d0d', 'name': 'User 6VSN'}, 'dataset': {'_accessLevel': -1, '_id': '5a2ecc5e1165975c945942a2', 'description': 'Moles and melanomas.\\nBiopsy-confirmed melanocytic lesions. Both malignant and benign lesions are included.', 'license': 'CC-0', 'name': 'UDA-1', 'updated': '2014-11-10T02:39:56.492000+00:00'}, 'meta': {'acquisition': {'image_type': 'dermoscopic', 'pixelsX': 1022, 'pixelsY': 767}, 'clinical': {'age_approx': 30, 'anatom_site_general': 'posterior torso', 'benign_malignant': 'malignant', 'diagnosis': 'melanoma', 'diagnosis_confirm_type': 'histopathology', 'melanocytic': True, 'sex': 'female'}}, 'name': 'ISIC_0000013', 'notes': {'reviewed': {'accepted': True, 'time': '2014-11-10T02:39:56.492000+00:00', 'userId': '5436c6e7bae4780a676c8f93'}, 'tags': ['Challenge 2018: Task 1-2: Training', 'Challenge 2019: Training', 'Challenge 2016: Test', 'Challenge 2017: Training']}, 'updated': '2015-02-23T02:50:26.544000+00:00'}\n",
      "\n",
      "  ISIC_0000014\n",
      "   {'age_approx': 35, 'anatom_site_general': 'posterior torso', 'benign_malignant': 'benign', 'diagnosis': 'nevus', 'diagnosis_confirm_type': None, 'melanocytic': True, 'sex': 'male'}\n",
      "\n",
      "   {'_id': '5436e3adbae478396759f0eb', '_modelType': 'image', 'created': '2014-10-09T19:36:13.145000+00:00', 'creator': {'_id': '5450e996bae47865794e4d0d', 'name': 'User 6VSN'}, 'dataset': {'_accessLevel': -1, '_id': '5a2ecc5e1165975c945942a2', 'description': 'Moles and melanomas.\\nBiopsy-confirmed melanocytic lesions. Both malignant and benign lesions are included.', 'license': 'CC-0', 'name': 'UDA-1', 'updated': '2014-11-10T02:39:56.492000+00:00'}, 'meta': {'acquisition': {'image_type': 'dermoscopic', 'pixelsX': 1022, 'pixelsY': 767}, 'clinical': {'age_approx': 35, 'anatom_site_general': 'posterior torso', 'benign_malignant': 'benign', 'diagnosis': 'nevus', 'diagnosis_confirm_type': None, 'melanocytic': True, 'sex': 'male'}}, 'name': 'ISIC_0000014', 'notes': {'reviewed': {'accepted': True, 'time': '2014-11-10T02:39:56.492000+00:00', 'userId': '5436c6e7bae4780a676c8f93'}, 'tags': ['Challenge 2018: Task 1-2: Training', 'Challenge 2019: Training', 'Challenge 2016: Test', 'Challenge 2017: Training']}, 'updated': '2015-02-23T02:50:36.902000+00:00'}\n",
      "\n",
      "  ISIC_0000015\n",
      "   {'age_approx': 35, 'anatom_site_general': 'posterior torso', 'benign_malignant': 'benign', 'diagnosis': 'nevus', 'diagnosis_confirm_type': None, 'melanocytic': True, 'sex': 'male'}\n",
      "\n",
      "   {'_id': '5436e3adbae478396759f0ed', '_modelType': 'image', 'created': '2014-10-09T19:36:13.226000+00:00', 'creator': {'_id': '5450e996bae47865794e4d0d', 'name': 'User 6VSN'}, 'dataset': {'_accessLevel': -1, '_id': '5a2ecc5e1165975c945942a2', 'description': 'Moles and melanomas.\\nBiopsy-confirmed melanocytic lesions. Both malignant and benign lesions are included.', 'license': 'CC-0', 'name': 'UDA-1', 'updated': '2014-11-10T02:39:56.492000+00:00'}, 'meta': {'acquisition': {'image_type': 'dermoscopic', 'pixelsX': 1022, 'pixelsY': 767}, 'clinical': {'age_approx': 35, 'anatom_site_general': 'posterior torso', 'benign_malignant': 'benign', 'diagnosis': 'nevus', 'diagnosis_confirm_type': None, 'melanocytic': True, 'sex': 'male'}}, 'name': 'ISIC_0000015', 'notes': {'reviewed': {'accepted': True, 'time': '2014-11-10T02:39:56.492000+00:00', 'userId': '5436c6e7bae4780a676c8f93'}, 'tags': ['Challenge 2018: Task 1-2: Training', 'Challenge 2019: Training', 'Challenge 2016: Test', 'Challenge 2017: Training']}, 'updated': '2015-02-23T02:50:49.643000+00:00'}\n",
      "\n",
      "  ISIC_0000016\n",
      "   {'age_approx': 55, 'anatom_site_general': 'anterior torso', 'benign_malignant': 'benign', 'diagnosis': 'nevus', 'diagnosis_confirm_type': None, 'melanocytic': True, 'sex': 'female'}\n",
      "\n",
      "   {'_id': '5436e3adbae478396759f0ef', '_modelType': 'image', 'created': '2014-10-09T19:36:13.308000+00:00', 'creator': {'_id': '5450e996bae47865794e4d0d', 'name': 'User 6VSN'}, 'dataset': {'_accessLevel': -1, '_id': '5a2ecc5e1165975c945942a2', 'description': 'Moles and melanomas.\\nBiopsy-confirmed melanocytic lesions. Both malignant and benign lesions are included.', 'license': 'CC-0', 'name': 'UDA-1', 'updated': '2014-11-10T02:39:56.492000+00:00'}, 'meta': {'acquisition': {'image_type': 'dermoscopic', 'pixelsX': 1022, 'pixelsY': 767}, 'clinical': {'age_approx': 55, 'anatom_site_general': 'anterior torso', 'benign_malignant': 'benign', 'diagnosis': 'nevus', 'diagnosis_confirm_type': None, 'melanocytic': True, 'sex': 'female'}}, 'name': 'ISIC_0000016', 'notes': {'reviewed': {'accepted': True, 'time': '2014-11-10T02:39:56.492000+00:00', 'userId': '5436c6e7bae4780a676c8f93'}, 'tags': ['Challenge 2018: Task 1-2: Training', 'Challenge 2019: Training', 'Challenge 2016: Training', 'Challenge 2017: Training']}, 'updated': '2015-02-23T02:51:05.333000+00:00'}\n",
      "\n",
      "  ISIC_0000017\n",
      "   {'age_approx': 50, 'anatom_site_general': 'posterior torso', 'benign_malignant': 'benign', 'diagnosis': 'nevus', 'diagnosis_confirm_type': None, 'melanocytic': True, 'sex': 'female'}\n",
      "\n",
      "   {'_id': '5436e3adbae478396759f0f1', '_modelType': 'image', 'created': '2014-10-09T19:36:13.430000+00:00', 'creator': {'_id': '5450e996bae47865794e4d0d', 'name': 'User 6VSN'}, 'dataset': {'_accessLevel': -1, '_id': '5a2ecc5e1165975c945942a2', 'description': 'Moles and melanomas.\\nBiopsy-confirmed melanocytic lesions. Both malignant and benign lesions are included.', 'license': 'CC-0', 'name': 'UDA-1', 'updated': '2014-11-10T02:39:56.492000+00:00'}, 'meta': {'acquisition': {'image_type': 'dermoscopic', 'pixelsX': 1504, 'pixelsY': 1129}, 'clinical': {'age_approx': 50, 'anatom_site_general': 'posterior torso', 'benign_malignant': 'benign', 'diagnosis': 'nevus', 'diagnosis_confirm_type': None, 'melanocytic': True, 'sex': 'female'}}, 'name': 'ISIC_0000017', 'notes': {'reviewed': {'accepted': True, 'time': '2014-11-10T02:39:56.492000+00:00', 'userId': '5436c6e7bae4780a676c8f93'}, 'tags': ['Challenge 2018: Task 1-2: Training', 'Challenge 2019: Training', 'Challenge 2016: Training', 'Challenge 2017: Training']}, 'updated': '2015-02-23T02:51:19.180000+00:00'}\n",
      "\n",
      "  ISIC_0000018\n",
      "   {'age_approx': 30, 'anatom_site_general': 'posterior torso', 'benign_malignant': 'benign', 'diagnosis': 'nevus', 'diagnosis_confirm_type': None, 'melanocytic': True, 'sex': 'male'}\n",
      "\n",
      "   {'_id': '5436e3adbae478396759f0f3', '_modelType': 'image', 'created': '2014-10-09T19:36:13.550000+00:00', 'creator': {'_id': '5450e996bae47865794e4d0d', 'name': 'User 6VSN'}, 'dataset': {'_accessLevel': -1, '_id': '5a2ecc5e1165975c945942a2', 'description': 'Moles and melanomas.\\nBiopsy-confirmed melanocytic lesions. Both malignant and benign lesions are included.', 'license': 'CC-0', 'name': 'UDA-1', 'updated': '2014-11-10T02:39:56.492000+00:00'}, 'meta': {'acquisition': {'image_type': 'dermoscopic', 'pixelsX': 1504, 'pixelsY': 1129}, 'clinical': {'age_approx': 30, 'anatom_site_general': 'posterior torso', 'benign_malignant': 'benign', 'diagnosis': 'nevus', 'diagnosis_confirm_type': None, 'melanocytic': True, 'sex': 'male'}}, 'name': 'ISIC_0000018', 'notes': {'reviewed': {'accepted': True, 'time': '2014-11-10T02:39:56.492000+00:00', 'userId': '5436c6e7bae4780a676c8f93'}, 'tags': ['Challenge 2018: Task 1-2: Training', 'Challenge 2019: Training', 'Challenge 2016: Training', 'Challenge 2017: Training']}, 'updated': '2015-02-23T02:51:29.886000+00:00'}\n",
      "\n",
      "  ISIC_0000019\n",
      "   {'age_approx': 30, 'anatom_site_general': 'posterior torso', 'benign_malignant': 'benign', 'diagnosis': 'nevus', 'diagnosis_confirm_type': None, 'melanocytic': True, 'sex': 'female'}\n",
      "\n",
      "   {'_id': '5436e3adbae478396759f0f5', '_modelType': 'image', 'created': '2014-10-09T19:36:13.688000+00:00', 'creator': {'_id': '5450e996bae47865794e4d0d', 'name': 'User 6VSN'}, 'dataset': {'_accessLevel': -1, '_id': '5a2ecc5e1165975c945942a2', 'description': 'Moles and melanomas.\\nBiopsy-confirmed melanocytic lesions. Both malignant and benign lesions are included.', 'license': 'CC-0', 'name': 'UDA-1', 'updated': '2014-11-10T02:39:56.492000+00:00'}, 'meta': {'acquisition': {'image_type': 'dermoscopic', 'pixelsX': 1504, 'pixelsY': 1129}, 'clinical': {'age_approx': 30, 'anatom_site_general': 'posterior torso', 'benign_malignant': 'benign', 'diagnosis': 'nevus', 'diagnosis_confirm_type': None, 'melanocytic': True, 'sex': 'female'}}, 'name': 'ISIC_0000019', 'notes': {'reviewed': {'accepted': True, 'time': '2014-11-10T02:39:56.492000+00:00', 'userId': '5436c6e7bae4780a676c8f93'}, 'tags': ['Challenge 2018: Task 1-2: Training', 'Challenge 2019: Training', 'Challenge 2016: Training', 'Challenge 2017: Training']}, 'updated': '2015-02-23T02:51:40.187000+00:00'}\n",
      "\n"
     ]
    }
   ],
   "source": [
    "print('Fetching metadata for %s images' % len(imageList))\n",
    "imageDetails = []\n",
    "for image in imageList:\n",
    "    print(' ', image['name'])\n",
    "    # Fetch the full image details\n",
    "    imageDetail = api.getJson('image/%s' % image['_id'])\n",
    "    imageDetails.append(imageDetail)\n",
    "    print('  ', imageDetail['meta']['clinical'])\n",
    "    print('')\n",
    "    print('  ', imageDetail)\n",
    "    print('')"
   ]
  },
  {
   "cell_type": "markdown",
   "id": "saving-journal",
   "metadata": {},
   "source": [
    "## Output metadata in CSV"
   ]
  },
  {
   "cell_type": "code",
   "execution_count": 27,
   "id": "regulation-watts",
   "metadata": {},
   "outputs": [
    {
     "name": "stdout",
     "output_type": "stream",
     "text": [
      "['isic_id', 'age_approx', 'anatom_site_general', 'benign_malignant', 'diagnosis', 'diagnosis_confirm_type', 'melanocytic', 'sex']\n",
      "Writing metadata to CSV: imagedata.csv\n"
     ]
    }
   ],
   "source": [
    "import csv\n",
    "\n",
    "outputFileName = 'imagedata'\n",
    "outputFilePath = 'imagedata/'\n",
    "\n",
    "if not os.path.exists(outputFilePath):\n",
    "    os.makedirs(outputFilePath)\n",
    "\n",
    "metadataFields = set(\n",
    "    field\n",
    "    for imageDetail in imageDetails\n",
    "    for field in imageDetail['meta']['clinical']\n",
    ")\n",
    "metadataFields = ['isic_id'] + sorted(metadataFields)\n",
    "\n",
    "print(metadataFields)\n",
    "\n",
    "# Write the metadata to a CSV\n",
    "print('Writing metadata to CSV: %s' % outputFileName+'.csv')\n",
    "\n",
    "with open(outputFilePath+outputFileName+'.csv', 'w', newline='') as csvFile:\n",
    "    csvWriter = csv.DictWriter(csvFile, fieldnames=metadataFields, extrasaction='ignore')\n",
    "    csvWriter.writeheader()\n",
    "    for imageDetail in imageDetails:\n",
    "        rowDict = imageDetail['meta']['clinical']\n",
    "        rowDict['isic_id'] = imageDetail['name']\n",
    "        csvWriter.writerow(rowDict)"
   ]
  },
  {
   "cell_type": "markdown",
   "id": "satellite-polls",
   "metadata": {},
   "source": [
    "# Create dataset folders"
   ]
  },
  {
   "cell_type": "code",
   "execution_count": 9,
   "id": "environmental-polymer",
   "metadata": {},
   "outputs": [],
   "source": [
    "datasetFolder = [\"train\", \"valid\", \"test\"]\n",
    "\n",
    "for folder in datasetFolder:\n",
    "    if not os.path.exists('imagedata/'+folder):\n",
    "        os.makedirs('imagedata/'+folder)"
   ]
  },
  {
   "cell_type": "markdown",
   "id": "mobile-malta",
   "metadata": {},
   "source": [
    "# Model training"
   ]
  },
  {
   "cell_type": "code",
   "execution_count": 10,
   "id": "structural-settlement",
   "metadata": {},
   "outputs": [
    {
     "ename": "ModuleNotFoundError",
     "evalue": "No module named 'tensorflow'",
     "output_type": "error",
     "traceback": [
      "\u001b[0;31m---------------------------------------------------------------------------\u001b[0m",
      "\u001b[0;31mModuleNotFoundError\u001b[0m                       Traceback (most recent call last)",
      "\u001b[0;32m<ipython-input-10-53f71ca78cd9>\u001b[0m in \u001b[0;36m<module>\u001b[0;34m\u001b[0m\n\u001b[1;32m      1\u001b[0m \u001b[0;32mimport\u001b[0m \u001b[0mnumpy\u001b[0m \u001b[0;32mas\u001b[0m \u001b[0mnp\u001b[0m\u001b[0;34m\u001b[0m\u001b[0;34m\u001b[0m\u001b[0m\n\u001b[0;32m----> 2\u001b[0;31m \u001b[0;32mimport\u001b[0m \u001b[0mtensorflow\u001b[0m \u001b[0;32mas\u001b[0m \u001b[0mtf\u001b[0m\u001b[0;34m\u001b[0m\u001b[0;34m\u001b[0m\u001b[0m\n\u001b[0m\u001b[1;32m      3\u001b[0m \u001b[0;32mfrom\u001b[0m \u001b[0mtensorflow\u001b[0m \u001b[0;32mimport\u001b[0m \u001b[0mkeras\u001b[0m\u001b[0;34m\u001b[0m\u001b[0;34m\u001b[0m\u001b[0m\n\u001b[1;32m      4\u001b[0m \u001b[0;32mfrom\u001b[0m \u001b[0mtensorflow\u001b[0m\u001b[0;34m.\u001b[0m\u001b[0mkeras\u001b[0m\u001b[0;34m.\u001b[0m\u001b[0mmodels\u001b[0m \u001b[0;32mimport\u001b[0m \u001b[0mSequential\u001b[0m\u001b[0;34m\u001b[0m\u001b[0;34m\u001b[0m\u001b[0m\n\u001b[1;32m      5\u001b[0m \u001b[0;32mfrom\u001b[0m \u001b[0mtensorflow\u001b[0m\u001b[0;34m.\u001b[0m\u001b[0mkeras\u001b[0m\u001b[0;34m.\u001b[0m\u001b[0mlayers\u001b[0m \u001b[0;32mimport\u001b[0m \u001b[0mActivation\u001b[0m\u001b[0;34m,\u001b[0m \u001b[0mDense\u001b[0m\u001b[0;34m,\u001b[0m \u001b[0mFlatten\u001b[0m\u001b[0;34m,\u001b[0m \u001b[0mBatchNormalization\u001b[0m\u001b[0;34m,\u001b[0m \u001b[0mConv2D\u001b[0m\u001b[0;34m,\u001b[0m \u001b[0mMaxPool2D\u001b[0m\u001b[0;34m,\u001b[0m \u001b[0mDropout\u001b[0m\u001b[0;34m\u001b[0m\u001b[0;34m\u001b[0m\u001b[0m\n",
      "\u001b[0;31mModuleNotFoundError\u001b[0m: No module named 'tensorflow'"
     ]
    }
   ],
   "source": [
    "import numpy as np\n",
    "import tensorflow as tf\n",
    "from tensorflow import keras\n",
    "from tensorflow.keras.models import Sequential\n",
    "from tensorflow.keras.layers import Activation, Dense, Flatten, BatchNormalization, Conv2D, MaxPool2D, Dropout\n",
    "from tensorflow.keras.optimizers import Adam\n",
    "from tensorflow.keras.metrics import categorical_crossentropy\n",
    "from tensorflow.keras.preprocessing.image import ImageDataGenerator\n",
    "from sklearn.metrics import confusion_matrix\n",
    "import itertools\n",
    "import os\n",
    "import shutil\n",
    "import random\n",
    "import glob\n",
    "import matplotlib.pyplot as plt\n",
    "import warnings\n",
    "warnings.simplefilter(action='ignore', category=FutureWarning)\n",
    "%matplotlib inline"
   ]
  },
  {
   "cell_type": "code",
   "execution_count": null,
   "id": "outdoor-newport",
   "metadata": {},
   "outputs": [],
   "source": [
    "train_path = 'imagedata/train'\n",
    "valid_path = 'imagedata/valid'\n",
    "test_path = 'imagedata/test'\n",
    "physical_devices = tf.config.experimental.list_physical_devices('GPU')\n",
    "tf.config.experimental.set_memory_growth(physical_devices[0], True)"
   ]
  },
  {
   "cell_type": "code",
   "execution_count": null,
   "id": "involved-overview",
   "metadata": {},
   "outputs": [],
   "source": [
    "train_batches = ImageDataGenerator(preprocessing_function=tf.keras.applications.vgg16.preprocess_input) \\\n",
    "    .flow_from_directory(directory=train_path, target_size=(224,224), classes=['benign', 'malignant'], batch_size=10)\n",
    "\n",
    "valid_batches = ImageDataGenerator(preprocessing_function=tf.keras.applications.vgg16.preprocess_input) \\\n",
    "    .flow_from_directory(directory=valid_path, target_size=(224,224), classes=['benign', 'malignant'], batch_size=10)\n",
    "test_batches = ImageDataGenerator(preprocessing_function=tf.keras.applications.vgg16.preprocess_input) \\\n",
    "    .flow_from_directory(directory=test_path, target_size=(224,224), classes=['benign', 'malignant'], batch_size=10, shuffle=False)\n",
    "\n",
    "\n",
    "imgs, labels = next(train_batches)\n",
    "\n",
    "def plotImages(images_arr):\n",
    "    fig, axes = plt.subplots(1, 10, figsize=(20,20))\n",
    "    axes = axes.flatten()\n",
    "    for img, ax in zip( images_arr, axes):\n",
    "        ax.imshow(img)\n",
    "        ax.axis('off')\n",
    "    plt.tight_layout()\n",
    "    plt.show()"
   ]
  },
  {
   "cell_type": "code",
   "execution_count": null,
   "id": "purple-panic",
   "metadata": {},
   "outputs": [],
   "source": [
    "model = Sequential([\n",
    "    Conv2D(filters=32, kernel_size=(3, 3), activation='relu', padding = 'same', input_shape=(224,224,3)),\n",
    "    MaxPool2D(pool_size=(2, 2), strides=2),\n",
    "    Conv2D(filters=64, kernel_size=(3, 3), activation='relu', padding = 'same'),\n",
    "    MaxPool2D(pool_size=(2, 2), strides=2),\n",
    "    Conv2D(filters=128, kernel_size=(3, 3), activation='relu', padding = 'same'),\n",
    "    MaxPool2D(pool_size=(2, 2), strides=2),\n",
    "    Flatten(),\n",
    "    Dropout(0.4),\n",
    "    Dense(units=2, activation='softmax')\n",
    "])\n",
    "\n",
    "model.summary()\n",
    "\n",
    "model.compile(optimizer=Adam(learning_rate=0.0001), loss='categorical_crossentropy', metrics=['accuracy'])"
   ]
  },
  {
   "cell_type": "code",
   "execution_count": null,
   "id": "residential-tomato",
   "metadata": {},
   "outputs": [],
   "source": [
    "model.fit(x=train_batches,\n",
    "    steps_per_epoch=len(train_batches),\n",
    "    validation_data=valid_batches,\n",
    "    validation_steps=len(valid_batches),\n",
    "    epochs=10,\n",
    "    verbose=1\n",
    ")"
   ]
  },
  {
   "cell_type": "code",
   "execution_count": null,
   "id": "vietnamese-christian",
   "metadata": {},
   "outputs": [],
   "source": [
    "test_imgs, test_labels = next(test_batches)\n",
    "plotImages(test_imgs)\n",
    "print(test_labels)"
   ]
  },
  {
   "cell_type": "code",
   "execution_count": null,
   "id": "southeast-processor",
   "metadata": {},
   "outputs": [],
   "source": [
    "predictions = model.predict(x=test_batches, steps=len(test_batches), verbose=0)"
   ]
  },
  {
   "cell_type": "code",
   "execution_count": null,
   "id": "interim-muscle",
   "metadata": {},
   "outputs": [],
   "source": [
    "#np.round(predictions)\n",
    "cm = confusion_matrix(y_true=test_batches.classes, y_pred=np.argmax(predictions, axis=-1))\n",
    "#test_batches.classes"
   ]
  },
  {
   "cell_type": "code",
   "execution_count": null,
   "id": "fuzzy-motorcycle",
   "metadata": {},
   "outputs": [],
   "source": [
    "def plot_confusion_matrix(cm, classes,\n",
    "                          normalize=False,\n",
    "                          title='Confusion matrix',\n",
    "                          cmap=plt.cm.Blues):\n",
    "    \"\"\"\n",
    "    This function prints and plots the confusion matrix.\n",
    "    Normalization can be applied by setting `normalize=True`.\n",
    "    \"\"\"\n",
    "    plt.imshow(cm, interpolation='nearest', cmap=cmap)\n",
    "    plt.title(title)\n",
    "    plt.colorbar()\n",
    "    tick_marks = np.arange(len(classes))\n",
    "    plt.xticks(tick_marks, classes, rotation=45)\n",
    "    plt.yticks(tick_marks, classes)\n",
    "\n",
    "    if normalize:\n",
    "        cm = cm.astype('float') / cm.sum(axis=1)[:, np.newaxis]\n",
    "        print(\"Normalized confusion matrix\")\n",
    "    else:\n",
    "        print('Confusion matrix, without normalization')\n",
    "\n",
    "    print(cm)\n",
    "\n",
    "    thresh = cm.max() / 2.\n",
    "    for i, j in itertools.product(range(cm.shape[0]), range(cm.shape[1])):\n",
    "        plt.text(j, i, cm[i, j],\n",
    "            horizontalalignment=\"center\",\n",
    "            color=\"white\" if cm[i, j] > thresh else \"black\")\n",
    "\n",
    "    plt.tight_layout()\n",
    "    plt.ylabel('True label')\n",
    "    plt.xlabel('Predicted label')"
   ]
  },
  {
   "cell_type": "code",
   "execution_count": null,
   "id": "charged-tactics",
   "metadata": {},
   "outputs": [],
   "source": [
    "test_batches.class_indices"
   ]
  },
  {
   "cell_type": "code",
   "execution_count": null,
   "id": "fantastic-paraguay",
   "metadata": {},
   "outputs": [],
   "source": [
    "cm_plot_labels = ['benign','malignant']\n",
    "plot_confusion_matrix(cm=cm, classes=cm_plot_labels, title='Confusion Matrix')"
   ]
  }
 ],
 "metadata": {
  "kernelspec": {
   "display_name": "Python 3",
   "language": "python",
   "name": "python3"
  },
  "language_info": {
   "codemirror_mode": {
    "name": "ipython",
    "version": 3
   },
   "file_extension": ".py",
   "mimetype": "text/x-python",
   "name": "python",
   "nbconvert_exporter": "python",
   "pygments_lexer": "ipython3",
   "version": "3.6.9"
  }
 },
 "nbformat": 4,
 "nbformat_minor": 5
}
