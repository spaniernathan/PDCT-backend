{
 "cells": [
  {
   "cell_type": "code",
   "execution_count": 1,
   "metadata": {},
   "outputs": [],
   "source": [
    "import cv2 as cv\n",
    "import numpy as np\n",
    "from matplotlib import pyplot as plt\n",
    "import os"
   ]
  },
  {
   "cell_type": "code",
   "execution_count": 2,
   "metadata": {},
   "outputs": [],
   "source": [
    "def getNewSize(yxDiff):\n",
    "    # Take yxDiff as input, return how much to crop from each side\n",
    "    side1 = abs(yxDiff)/2\n",
    "    if side1.is_integer():\n",
    "        side2 = side1\n",
    "    else:\n",
    "        side2 = int(side1) + 1\n",
    "    return int(side1), int(side2)"
   ]
  },
  {
   "cell_type": "code",
   "execution_count": 3,
   "metadata": {},
   "outputs": [],
   "source": [
    "def cropImage(img):\n",
    "    # Cropstatus is used to know if an image needs cropping\n",
    "    cropStatus = 0\n",
    "    # Get aspect ratio\n",
    "    yxDiff = img.shape[1] - img.shape[0]\n",
    "    \n",
    "    if yxDiff == 0:\n",
    "        # Do not crop\n",
    "        newImage = img\n",
    "    elif yxDiff > 0:\n",
    "        # Crop in x-direction, eaven on each side\n",
    "        cropStatus = 1\n",
    "        side1, side2 = getNewSize(yxDiff)\n",
    "        newImage = img[:, side1:-side2, :]\n",
    "    elif yxDiff < 0:\n",
    "        # Crop in y-direction, eaven on each side\n",
    "        cropStatus = 1\n",
    "        side1, side2 = getNewSize(yxDiff)\n",
    "        newImage = img[side1:-side2, :, :]\n",
    "    return newImage, cropStatus"
   ]
  },
  {
   "cell_type": "code",
   "execution_count": 6,
   "metadata": {},
   "outputs": [],
   "source": [
    "'''\n",
    "Script is running on the given folders, benign and malignant. \n",
    "Loops over each file and transforms them to 224 x 224 images. It keeps\n",
    "the new image centered compared to before.\n",
    "The new image is stored in the folders with the same name + _224_224.\n",
    "A log-file is created to know which files needed cropping, this can be \n",
    "used later when manually checking files.\n",
    "'''\n",
    "\n",
    "# Log which files has been altered in aspect ratio, manual check\n",
    "logFile = open('logging.csv', 'a')\n",
    "\n",
    "for directory in ['benign', 'malignant']:\n",
    "    for image in os.listdir(directory):\n",
    "        img = cv.imread(directory+'/'+image, -1)\n",
    "        croppedImage, cropStatus = cropImage(img)\n",
    "        if cropStatus == 1:\n",
    "            logFile.write(image + \",\")\n",
    "        resizedImage = cv.resize(croppedImage, (224,224))\n",
    "\n",
    "        # Write file to disk\n",
    "        if not cv.imwrite(directory+\"_224_224/\"+image, resizedImage):\n",
    "            print(\"Could not write file!\", image)\n",
    "\n",
    "logFile.close()"
   ]
  }
 ],
 "metadata": {
  "kernelspec": {
   "display_name": "Python 3",
   "language": "python",
   "name": "python3"
  },
  "language_info": {
   "codemirror_mode": {
    "name": "ipython",
    "version": 3
   },
   "file_extension": ".py",
   "mimetype": "text/x-python",
   "name": "python",
   "nbconvert_exporter": "python",
   "pygments_lexer": "ipython3",
   "version": "3.6.9"
  }
 },
 "nbformat": 4,
 "nbformat_minor": 2
}
