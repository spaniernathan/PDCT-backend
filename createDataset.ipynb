{
 "cells": [
  {
   "cell_type": "markdown",
   "id": "sunrise-orleans",
   "metadata": {
    "tags": []
   },
   "source": [
    "# ISIC API Encapsulation"
   ]
  },
  {
   "cell_type": "code",
   "execution_count": null,
   "id": "broad-thesis",
   "metadata": {},
   "outputs": [],
   "source": [
    "import requests\n",
    "\n",
    "\n",
    "class ISICApi(object):\n",
    "    def __init__(self, hostname='https://isic-archive.com',\n",
    "                 username=None, password=None):\n",
    "        self.baseUrl = f'{hostname}/api/v1'\n",
    "        self.authToken = None\n",
    "\n",
    "        if username is not None:\n",
    "            if password is None:\n",
    "                password = input(f'Password for user \"{username}\":')\n",
    "            self.authToken = self._login(username, password)\n",
    "\n",
    "    def _makeUrl(self, endpoint):\n",
    "        return f'{self.baseUrl}/{endpoint}'\n",
    "\n",
    "    def _login(self, username, password):\n",
    "        authResponse = requests.get(\n",
    "            self._makeUrl('user/authentication'),\n",
    "            auth=(username, password)\n",
    "        )\n",
    "        if not authResponse.ok:\n",
    "            raise Exception(f'Login error: {authResponse.json()[\"message\"]}')\n",
    "\n",
    "        authToken = authResponse.json()['authToken']['token']\n",
    "        return authToken\n",
    "\n",
    "    def get(self, endpoint):\n",
    "        url = self._makeUrl(endpoint)\n",
    "        headers = {'Girder-Token': self.authToken} if self.authToken else None\n",
    "        return requests.get(url, headers=headers)\n",
    "\n",
    "    def getJson(self, endpoint):\n",
    "        return self.get(endpoint).json()\n",
    "\n",
    "    def getJsonList(self, endpoint):\n",
    "        endpoint += '&' if '?' in endpoint else '?'\n",
    "        LIMIT = 50\n",
    "        offset = 0\n",
    "        while True:\n",
    "            resp = self.get(\n",
    "                f'{endpoint}limit={LIMIT:d}&offset={offset:d}'\n",
    "            ).json()\n",
    "            if not resp:\n",
    "                break\n",
    "            for elem in resp:\n",
    "                yield elem\n",
    "            offset += LIMIT"
   ]
  },
  {
   "cell_type": "markdown",
   "id": "competent-replica",
   "metadata": {},
   "source": [
    "# Connect to API"
   ]
  },
  {
   "cell_type": "code",
   "execution_count": null,
   "id": "secret-ebony",
   "metadata": {},
   "outputs": [],
   "source": [
    "api = ISICApi(username=\"spaniernathan\", password=\"4YwB3z&f78BjdBp4W2ghBt^k8YT&HZDS\")"
   ]
  },
  {
   "cell_type": "markdown",
   "id": "accurate-planner",
   "metadata": {
    "tags": []
   },
   "source": [
    "# Choose the number of image"
   ]
  },
  {
   "cell_type": "code",
   "execution_count": null,
   "id": "incoming-fortune",
   "metadata": {},
   "outputs": [],
   "source": [
    "import csv\n",
    "\n",
    "datasetTotalSize = 200\n",
    "\n",
    "benign_list = []\n",
    "malignant_list = []\n",
    "\n",
    "with open('metadata.csv', newline='') as csvfile:\n",
    "    reader = csv.DictReader(csvfile)\n",
    "    for row in reader:\n",
    "        if len(benign_list) == datasetTotalSize/2 and len(malignant_list) == datasetTotalSize/2:\n",
    "            break\n",
    "        if (row['meta.clinical.benign_malignant'] == \"benign\") and len(benign_list) < datasetTotalSize/2:\n",
    "            benign_list.append({'id': row['_id'], 'name': row['name'], 'class': row['meta.clinical.benign_malignant']})\n",
    "        elif (row['meta.clinical.benign_malignant'] == \"malignant\") and len(malignant_list) < datasetTotalSize/2:\n",
    "            malignant_list.append({'id': row['_id'], 'name': row['name'], 'class': row['meta.clinical.benign_malignant']})\n",
    "        \n",
    "imageFileResp = api.get('image/%s/download' % image['_id'])\n",
    "    imageFileResp.raise_for_status()\n",
    "    imageFileOutputPath = os.path.join(savePath, '%s.jpg' % image['name'])\n",
    "    with open(imageFileOutputPath, 'wb') as imageFileOutputStream:\n",
    "        for chunk in imageFileResp:\n",
    "            imageFileOutputStream.write(chunk)"
   ]
  },
  {
   "cell_type": "code",
   "execution_count": 10,
   "id": "favorite-identity",
   "metadata": {},
   "outputs": [],
   "source": []
  },
  {
   "cell_type": "code",
   "execution_count": null,
   "id": "editorial-namibia",
   "metadata": {},
   "outputs": [],
   "source": []
  }
 ],
 "metadata": {
  "kernelspec": {
   "display_name": "Python 3",
   "language": "python",
   "name": "python3"
  },
  "language_info": {
   "codemirror_mode": {
    "name": "ipython",
    "version": 3
   },
   "file_extension": ".py",
   "mimetype": "text/x-python",
   "name": "python",
   "nbconvert_exporter": "python",
   "pygments_lexer": "ipython3",
   "version": "3.9.2"
  }
 },
 "nbformat": 4,
 "nbformat_minor": 5
}
