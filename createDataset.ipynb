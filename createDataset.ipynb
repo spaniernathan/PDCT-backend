{
 "cells": [
  {
   "cell_type": "markdown",
   "id": "taken-limit",
   "metadata": {
    "tags": []
   },
   "source": [
    "# ISIC API Encapsulation"
   ]
  },
  {
   "cell_type": "code",
   "execution_count": null,
   "id": "periodic-projector",
   "metadata": {},
   "outputs": [],
   "source": [
    "import requests\n",
    "\n",
    "\n",
    "class ISICApi(object):\n",
    "    def __init__(self, hostname='https://isic-archive.com',\n",
    "                 username=None, password=None):\n",
    "        self.baseUrl = f'{hostname}/api/v1'\n",
    "        self.authToken = None\n",
    "\n",
    "        if username is not None:\n",
    "            if password is None:\n",
    "                password = input(f'Password for user \"{username}\":')\n",
    "            self.authToken = self._login(username, password)\n",
    "\n",
    "    def _makeUrl(self, endpoint):\n",
    "        return f'{self.baseUrl}/{endpoint}'\n",
    "\n",
    "    def _login(self, username, password):\n",
    "        authResponse = requests.get(\n",
    "            self._makeUrl('user/authentication'),\n",
    "            auth=(username, password)\n",
    "        )\n",
    "        if not authResponse.ok:\n",
    "            raise Exception(f'Login error: {authResponse.json()[\"message\"]}')\n",
    "\n",
    "        authToken = authResponse.json()['authToken']['token']\n",
    "        return authToken\n",
    "\n",
    "    def get(self, endpoint):\n",
    "        url = self._makeUrl(endpoint)\n",
    "        headers = {'Girder-Token': self.authToken} if self.authToken else None\n",
    "        return requests.get(url, headers=headers)\n",
    "\n",
    "    def getJson(self, endpoint):\n",
    "        return self.get(endpoint).json()\n",
    "\n",
    "    def getJsonList(self, endpoint):\n",
    "        endpoint += '&' if '?' in endpoint else '?'\n",
    "        LIMIT = 50\n",
    "        offset = 0\n",
    "        while True:\n",
    "            resp = self.get(\n",
    "                f'{endpoint}limit={LIMIT:d}&offset={offset:d}'\n",
    "            ).json()\n",
    "            if not resp:\n",
    "                break\n",
    "            for elem in resp:\n",
    "                yield elem\n",
    "            offset += LIMIT"
   ]
  },
  {
   "cell_type": "markdown",
   "id": "domestic-chaos",
   "metadata": {},
   "source": [
    "# Connect to API"
   ]
  },
  {
   "cell_type": "code",
   "execution_count": null,
   "id": "sudden-billy",
   "metadata": {},
   "outputs": [],
   "source": [
    "api = ISICApi(username=\"spaniernathan\", password=\"4YwB3z&f78BjdBp4W2ghBt^k8YT&HZDS\")"
   ]
  },
  {
   "cell_type": "markdown",
   "id": "urban-distributor",
   "metadata": {
    "tags": []
   },
   "source": [
    "# Choose the number of image"
   ]
  },
  {
   "cell_type": "code",
   "execution_count": null,
   "id": "canadian-officer",
   "metadata": {},
   "outputs": [],
   "source": [
    "import csv\n",
    "\n",
    "open('metadata.csv') as csv_file:\n",
    "    \n",
    "csv_reader = csv.reader(csv_file, delimiter=',')\n",
    "line_count = 0\n",
    "\n",
    "numberChosen = 10\n",
    "numberBenign = numberChosen%2\n",
    "numberMalignant = numberChosen%2\n",
    "\n",
    "for row in csv_reader:\n",
    "    if row[5] == \"benign\" and numberBegign != 0:\n",
    "        \n",
    "        \n",
    "\n",
    "\n",
    "        \n",
    "imageFileResp = api.get('image/%s/download' % image['_id'])\n",
    "    imageFileResp.raise_for_status()\n",
    "    imageFileOutputPath = os.path.join(savePath, '%s.jpg' % image['name'])\n",
    "    with open(imageFileOutputPath, 'wb') as imageFileOutputStream:\n",
    "        for chunk in imageFileResp:\n",
    "            imageFileOutputStream.write(chunk)"
   ]
  }
 ],
 "metadata": {
  "kernelspec": {
   "display_name": "Python 3",
   "language": "python",
   "name": "python3"
  },
  "language_info": {
   "codemirror_mode": {
    "name": "ipython",
    "version": 3
   },
   "file_extension": ".py",
   "mimetype": "text/x-python",
   "name": "python",
   "nbconvert_exporter": "python",
   "pygments_lexer": "ipython3",
   "version": "3.6.9"
  }
 },
 "nbformat": 4,
 "nbformat_minor": 5
}
